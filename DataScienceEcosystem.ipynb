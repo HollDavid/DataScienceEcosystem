{
 "cells": [
  {
   "cell_type": "markdown",
   "id": "ca977f80",
   "metadata": {},
   "source": [
    "# Data Science Tools and Ecosystem"
   ]
  },
  {
   "cell_type": "markdown",
   "id": "ab73502e",
   "metadata": {},
   "source": [
    "In this notebook, Data Science Tools and Ecosystem are summarized"
   ]
  },
  {
   "cell_type": "markdown",
   "id": "246646d8",
   "metadata": {},
   "source": [
    "**Objectives:**\n",
    "- List popular languages for Data Science\n",
    "- List commonly used libraries for Python\n",
    "- Name open source IDEs\n",
    "- Use arithmetic expressions for calculation\n",
    "    "
   ]
  },
  {
   "cell_type": "markdown",
   "id": "4140c6c2",
   "metadata": {},
   "source": [
    "Commonly used languages for data science are:\n",
    "\n",
    "- **Python**: The most popular language \n",
    "- **R**: In my opinion the best for statistics and plotting \n",
    "- **SQL**: No database management system, no data science"
   ]
  },
  {
   "cell_type": "markdown",
   "id": "5e45f4cd",
   "metadata": {},
   "source": [
    "Some of the commonly used Python libraries used by Data Scientists include:\n",
    "\n",
    "- **tensorflow, keras and scikitlearn**\n",
    "- **pandas, numpy and matplotlib**\n",
    "\n"
   ]
  },
  {
   "cell_type": "markdown",
   "id": "83f002c3",
   "metadata": {},
   "source": [
    "| Data Science Tools |\n",
    "| ------------------ |\n",
    "| Jupyter Notebook/Lab |\n",
    "| RStudio |\n",
    "| Spyder |\n",
    "| Colab |"
   ]
  },
  {
   "cell_type": "markdown",
   "id": "ebf365fc",
   "metadata": {},
   "source": [
    "### Below are a few examples of evaluating arithmetic expressions in Python"
   ]
  },
  {
   "cell_type": "code",
   "execution_count": 12,
   "id": "917b966f",
   "metadata": {},
   "outputs": [
    {
     "name": "stdout",
     "output_type": "stream",
     "text": [
      "First result is: 17 \n",
      "Second result is: 23\n"
     ]
    }
   ],
   "source": [
    "#These are two simple arithmetic expression to multiply then adding integers\n",
    "result_1 = (3*4)+5\n",
    "result_2 = (5*4)+3\n",
    "\n",
    "print(\"First result is:\", result_1, \"\\nSecond result is:\", result_2)"
   ]
  },
  {
   "cell_type": "code",
   "execution_count": 14,
   "id": "0bf07faa",
   "metadata": {},
   "outputs": [
    {
     "name": "stdout",
     "output_type": "stream",
     "text": [
      "3.3333333333333335 hours\n"
     ]
    }
   ],
   "source": [
    "#This code converts 200 minutes into hours\n",
    "\n",
    "one_hour_in_minutes = (60)\n",
    "\n",
    "result_in_decimal = 200 / one_hour_in_minutes\n",
    "\n",
    "print(result_in_decimal,\"hours\")\n"
   ]
  },
  {
   "cell_type": "markdown",
   "id": "f1bec8d4",
   "metadata": {},
   "source": [
    "## Author\n",
    "David Holl"
   ]
  },
  {
   "cell_type": "code",
   "execution_count": null,
   "id": "442b2363",
   "metadata": {},
   "outputs": [],
   "source": []
  }
 ],
 "metadata": {
  "kernelspec": {
   "display_name": "Python 3 (ipykernel)",
   "language": "python",
   "name": "python3"
  },
  "language_info": {
   "codemirror_mode": {
    "name": "ipython",
    "version": 3
   },
   "file_extension": ".py",
   "mimetype": "text/x-python",
   "name": "python",
   "nbconvert_exporter": "python",
   "pygments_lexer": "ipython3",
   "version": "3.11.3"
  }
 },
 "nbformat": 4,
 "nbformat_minor": 5
}
